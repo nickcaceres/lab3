{
  "nbformat": 4,
  "nbformat_minor": 0,
  "metadata": {
    "colab": {
      "provenance": []
    },
    "kernelspec": {
      "name": "python3",
      "display_name": "Python 3"
    },
    "language_info": {
      "name": "python"
    }
  },
  "cells": [
    {
      "cell_type": "markdown",
      "source": [
        "#CIS-117 Lab3\n",
        "# A Python script that reads the following CSV file containing information on countries and splits the countries by region generating one file per region. For example: Europe.CSV should have only European countries.\n",
        "# Nicholas Caceres\n",
        "#"
      ],
      "metadata": {
        "id": "BncVpR5kn0yA"
      }
    },
    {
      "cell_type": "code",
      "source": [
        "import csv\n",
        "import os\n",
        "\n",
        "def split_countries_by_region(input_file):\n",
        "    try:\n",
        "        with open(input_file, mode='r', newline='', encoding='utf-8') as file:\n",
        "            reader = csv.DictReader(file)\n",
        "\n",
        "            # Dictionary to hold countries grouped by region\n",
        "            regions = {}\n",
        "\n",
        "            for row in reader:\n",
        "                country = row.get('Country')\n",
        "                region = row.get('Region')\n",
        "\n",
        "                if not country or not region:\n",
        "                    continue  # Skip rows with missing data\n",
        "\n",
        "                if region not in regions:\n",
        "                    regions[region] = []\n",
        "\n",
        "                regions[region].append({'Country': country, 'Region': region})\n",
        "\n",
        "        # Write each region's countries to a separate file\n",
        "        for region, countries in regions.items():\n",
        "            safe_region = region.replace(\" \", \"_\").replace(\"/\", \"_\")\n",
        "            output_filename = f\"{safe_region}.csv\"\n",
        "\n",
        "            try:\n",
        "                with open(output_filename, mode='w', newline='', encoding='utf-8') as output_file:\n",
        "                    writer = csv.DictWriter(output_file, fieldnames=['Country', 'Region'])\n",
        "                    writer.writeheader()\n",
        "                    writer.writerows(countries)\n",
        "                print(f\"Written: {output_filename}\")\n",
        "            except (IOError, PermissionError) as e:\n",
        "                print(f\"Error writing file {output_filename}: {e}\")\n",
        "\n",
        "    except FileNotFoundError:\n",
        "        print(f\"Error: The file {input_file} was not found.\")\n",
        "    except PermissionError:\n",
        "        print(f\"Error: Permission denied when accessing {input_file}.\")\n",
        "    except IOError as e:\n",
        "        print(f\"IO error occurred: {e}\")\n",
        "    except Exception as e:\n",
        "        print(f\"An unexpected error occurred: {e}\")\n",
        "\n",
        "# Path to your uploaded file\n",
        "input_csv = '/mnt/data/country_full.csv'\n",
        "split_countries_by_region(input_csv)\n"
      ],
      "metadata": {
        "id": "ZGkZNdNeu7Qh"
      },
      "execution_count": null,
      "outputs": []
    }
  ]
}